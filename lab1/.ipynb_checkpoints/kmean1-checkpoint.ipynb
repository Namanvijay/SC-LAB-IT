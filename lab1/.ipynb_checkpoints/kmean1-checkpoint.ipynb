{
 "cells": [
  {
   "cell_type": "code",
   "execution_count": null,
   "metadata": {},
   "outputs": [],
   "source": []
  },
  {
   "cell_type": "code",
   "execution_count": 1,
   "metadata": {},
   "outputs": [],
   "source": [
    "import numpy as np\n",
    "import pandas as pd\n",
    "import matplotlib.pyplot as plt\n",
    "from sklearn.datasets import load_iris "
   ]
  },
  {
   "cell_type": "code",
   "execution_count": 3,
   "metadata": {},
   "outputs": [],
   "source": [
    "def tolistfun(arr):\n",
    "    list=arr.tolist()\n",
    "\n",
    "    return list\n"
   ]
  },
  {
   "cell_type": "code",
   "execution_count": 4,
   "metadata": {},
   "outputs": [],
   "source": [
    "iris=load_iris()\n",
    "\n",
    "data=pd.DataFrame(iris.data,columns=['Sepal Length', 'Sepal Width', 'Petal Length', 'Petal Width'])\n",
    "y=pd.DataFrame(iris.target,columns=['Classes'])\n",
    "\n",
    "classA=[]\n",
    "classB=[]\n",
    "classC=[]\n",
    "for i in range(len(iris.target)):\n",
    "    if iris.target[i]==0:\n",
    "        classA.append(iris.data[i])\n",
    "    elif iris.target[i]==1:\n",
    "        classB.append(iris.data[i])\n",
    "    elif iris.target[i]==2:\n",
    "        classC.append(iris.data[i])\n",
    "dat=iris.data[:,:4]\n",
    "\n",
    "classA=np.asarray(classA)\n",
    "classB=np.array(classB)\n",
    "classC=np.array(classC)\n",
    "classA=tolistfun(classA)\n",
    "classB=tolistfun(classB)\n",
    "classC=tolistfun(classC)\n",
    "\n",
    "K=3\n",
    "max_iter=50\n"
   ]
  },
  {
   "cell_type": "code",
   "execution_count": 5,
   "metadata": {},
   "outputs": [],
   "source": [
    "\n",
    "def euclidean_dis(point1, point2):\n",
    "    dis = sum((point1 - point2)**2)**0.5\n",
    "    return dis\n"
   ]
  },
  {
   "cell_type": "code",
   "execution_count": 6,
   "metadata": {},
   "outputs": [],
   "source": [
    "\n",
    "def KMean(data):\n",
    "\n",
    "    centroids = {}\n",
    "\n",
    "    for i in range(K):\n",
    "        centroids[i] = data[i]\n",
    "    print(centroids)\n",
    "\n",
    "    \n",
    "    for i in range(max_iter):\n",
    "        classes={}\n",
    "        for key in range(K):\n",
    "            classes[key]=[]\n",
    "        for datapoint in data:\n",
    "            distance=[]\n",
    "            for j in range(K):\n",
    "               \n",
    "                dis=euclidean_dis(datapoint,centroids[j])\n",
    "               \n",
    "                distance.append(dis)\n",
    "            mindis=min(distance)\n",
    "            \n",
    "            index=distance.index(mindis)\n",
    "            classes[index].append(datapoint)\n",
    "            old_centroid=dict(centroids)\n",
    "            \n",
    "        for t in range(K):\n",
    "            class_=classes[t]\n",
    "                \n",
    "                \n",
    "            new_centroid=np.mean(class_,axis=0)\n",
    "            centroids[t]=new_centroid\n",
    "        flg=1\n",
    "        for t in range(K):\n",
    "             \n",
    "            a=centroids[t]\n",
    "            b=old_centroid[t]\n",
    "            if np.sum((a - b)/b * 100) > 0.001:\n",
    "                flg = 0\n",
    "                \n",
    "            \n",
    "            \n",
    "        if flg==1:\n",
    "            break\n",
    "    \n",
    "    return classes,centroids\n",
    "                    \n",
    "                \n",
    "       \n",
    "        \n",
    "        \n",
    "   \n",
    "        \n",
    "    \n"
   ]
  },
  {
   "cell_type": "code",
   "execution_count": 7,
   "metadata": {},
   "outputs": [
    {
     "name": "stdout",
     "output_type": "stream",
     "text": [
      "{0: array([5.1, 3.5, 1.4, 0.2]), 1: array([4.9, 3. , 1.4, 0.2]), 2: array([4.7, 3.2, 1.3, 0.2])}\n",
      "39\n",
      "61\n",
      "50\n",
      "{0: array([6.85384615, 3.07692308, 5.71538462, 2.05384615]), 1: array([5.88360656, 2.74098361, 4.38852459, 1.43442623]), 2: array([5.006, 3.428, 1.462, 0.246])}\n"
     ]
    }
   ],
   "source": [
    "classes,centroids=KMean(dat)\n",
    "for i in range(0,K):\n",
    "    classes[i]=np.array(classes[i])\n",
    "    classes[i]=tolistfun(classes[i])\n",
    "for i in range(0,K):\n",
    "    print(len(classes[i]))\n",
    "print(centroids)\n"
   ]
  },
  {
   "cell_type": "code",
   "execution_count": 8,
   "metadata": {},
   "outputs": [],
   "source": [
    "def subset(array1,array2):\n",
    "    flg=0\n",
    "    for i in range(len(array1)):\n",
    "        if(array2==array1[i]):\n",
    "            flg=1\n",
    "            break\n",
    "    if(flg==1):\n",
    "        return True\n",
    "    else:\n",
    "        return False"
   ]
  },
  {
   "cell_type": "code",
   "execution_count": 9,
   "metadata": {},
   "outputs": [],
   "source": [
    "def report(cm):\n",
    "    total=np.sum(cm)\n",
    "    diagonal=np.sum(np.diag(cm))\n",
    "    accuracy=(diagonal/total)\n",
    "    recall=np.diag(cm)/np.sum(cm,axis=1)\n",
    "    recall=np.mean(recall)\n",
    "    precision=np.diag(cm)/np.sum(cm,axis=0)\n",
    "    precision=np.mean(precision)\n",
    "    f1_score=(2*precision*recall)/(precision+recall)\n",
    "    print(\"Accuracy of the model is {}\".format(accuracy*100))\n",
    "    print(\"Recall of the model is {}\".format(recall*100))\n",
    "    print(\"Precision of the model is {}\".format(precision*100))\n",
    "    print(\"F1-Score of the model is {}\".format(f1_score*100))\n",
    "\n"
   ]
  },
  {
   "cell_type": "code",
   "execution_count": 10,
   "metadata": {},
   "outputs": [
    {
     "name": "stdout",
     "output_type": "stream",
     "text": [
      "Confusion Matrix is:\n",
      "[[50, 0, 0], [0, 47, 3], [0, 14, 36]]\n",
      "Accuracy of the model is 88.66666666666667\n",
      "Recall of the model is 88.66666666666667\n",
      "Precision of the model is 89.78562421185372\n",
      "F1-Score of the model is 89.22263731397425\n"
     ]
    }
   ],
   "source": [
    "rows,cols=(3,3)\n",
    "cm=[[0 for i in range(cols)] for j in range(rows)]\n",
    "\n",
    "\n",
    "for element in classA:\n",
    "    \n",
    "    if subset(classes[2],element):\n",
    "        cm[0][0]=cm[0][0]+1\n",
    "    elif subset(classes[1],element):\n",
    "        cm[0][1]=cm[0][1]+1\n",
    "    elif subset(classes[0],element):\n",
    "        cm[0][2]=cm[0][2]+1\n",
    "\n",
    "for element in classB:\n",
    "\n",
    "    if subset(classes[2],element):\n",
    "        cm[1][0]=cm[1][0]+1\n",
    "    elif subset(classes[1],element):\n",
    "        cm[1][1]=cm[1][1]+1\n",
    "    elif subset(classes[0],element):\n",
    "        cm[1][2]=cm[1][2]+1\n",
    "for element in classC:\n",
    "   \n",
    "    if subset(classes[2],element):\n",
    "        \n",
    "        cm[2][0]=cm[2][0]+1\n",
    "    elif subset(classes[1],element):\n",
    "         \n",
    "        cm[2][1]=cm[2][1]+1\n",
    "    elif subset(classes[0],element):\n",
    "         \n",
    "        cm[2][2]=cm[2][2]+1\n",
    "print(\"Confusion Matrix is:\")\n",
    "print(cm)\n",
    "report(cm)\n",
    "\n",
    "    \n"
   ]
  },
  {
   "cell_type": "code",
   "execution_count": null,
   "metadata": {},
   "outputs": [],
   "source": [
    "\n",
    "\n",
    "\n",
    "    \n",
    "\n",
    "\n",
    "\n",
    "\n",
    "\n",
    "\n"
   ]
  },
  {
   "cell_type": "code",
   "execution_count": null,
   "metadata": {},
   "outputs": [],
   "source": []
  },
  {
   "cell_type": "code",
   "execution_count": null,
   "metadata": {},
   "outputs": [],
   "source": []
  }
 ],
 "metadata": {
  "kernelspec": {
   "display_name": "Python 3",
   "language": "python",
   "name": "python3"
  },
  "language_info": {
   "codemirror_mode": {
    "name": "ipython",
    "version": 3
   },
   "file_extension": ".py",
   "mimetype": "text/x-python",
   "name": "python",
   "nbconvert_exporter": "python",
   "pygments_lexer": "ipython3",
   "version": "3.7.3"
  }
 },
 "nbformat": 4,
 "nbformat_minor": 2
}
