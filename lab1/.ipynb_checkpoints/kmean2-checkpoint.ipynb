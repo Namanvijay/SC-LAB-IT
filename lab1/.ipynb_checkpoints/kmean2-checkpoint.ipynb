{
 "cells": [
  {
   "cell_type": "code",
   "execution_count": 1,
   "metadata": {},
   "outputs": [],
   "source": [
    "import numpy as np\n",
    "import pandas as pd\n",
    "import matplotlib.pyplot as plt"
   ]
  },
  {
   "cell_type": "code",
   "execution_count": 2,
   "metadata": {},
   "outputs": [],
   "source": [
    "data=pd.read_csv('SPECTF_test.csv')"
   ]
  },
  {
   "cell_type": "code",
   "execution_count": 3,
   "metadata": {},
   "outputs": [
    {
     "name": "stdout",
     "output_type": "stream",
     "text": [
      "[[32 41 76 ...  8 18 11]\n",
      " [76 65 60 ... 30 24 21]\n",
      " [60 51 75 ... 31 46 30]\n",
      " ...\n",
      " [67 64 73 ... 80 67 68]\n",
      " [68 65 72 ... 56 58 44]\n",
      " [66 54 69 ... 68 59 59]]\n"
     ]
    }
   ],
   "source": [
    "# print(data)\n",
    "y=data.iloc[:,44].values\n",
    "list=[]\n",
    "for i in range(44):\n",
    "    list.append(i)\n",
    "x=data.iloc[:,list].values\n",
    "print(x)\n",
    "\n",
    "y=y.tolist()\n",
    "\n",
    "classA=[]\n",
    "classB=[]\n",
    "for i in range(len(y)):\n",
    "\n",
    "    if y[i]=='Yes':\n",
    "        classA.append(x[i])\n",
    "    else:\n",
    "        classB.append(x[i])\n",
    "classA=np.array(classA)\n",
    "classB=np.array(classB)\n",
    "classA=classA.tolist()\n",
    "classB=classB.tolist()\n",
    "K=2\n",
    "\n",
    "max_iter=100\n",
    "\n",
    "    \n"
   ]
  },
  {
   "cell_type": "code",
   "execution_count": 4,
   "metadata": {},
   "outputs": [],
   "source": [
    "def euclidean_dis(point1, point2):\n",
    "    dis = sum((point1 - point2)**2)**0.5\n",
    "    return dis"
   ]
  },
  {
   "cell_type": "code",
   "execution_count": 5,
   "metadata": {},
   "outputs": [],
   "source": [
    "def KMean(data):\n",
    "\n",
    "    centroids = {}\n",
    "\n",
    "    for i in range(K):\n",
    "        centroids[i] = data[i]\n",
    "    print(centroids)\n",
    "\n",
    " \n",
    "    r=0\n",
    "    \n",
    "    \n",
    "    for i in range(max_iter):\n",
    "        r=r+1\n",
    "        classes={}\n",
    "        for key in range(K):\n",
    "            classes[key]=[]\n",
    "        for datapoint in data:\n",
    "#             print(datapoint)\n",
    "            distance=[]\n",
    "            for j in range(K):\n",
    "               \n",
    "                dis=euclidean_dis(datapoint,centroids[j])\n",
    "               \n",
    "                distance.append(dis)\n",
    "            mindis=min(distance)\n",
    "            \n",
    "            index=distance.index(mindis)\n",
    "            classes[index].append(datapoint)\n",
    "            old_centroid=dict(centroids)\n",
    "            \n",
    "        for t in range(K):\n",
    "            class_=classes[t]\n",
    "                \n",
    "                \n",
    "            new_centroid=np.mean(class_,axis=0)\n",
    "            centroids[t]=new_centroid\n",
    "        flg=1\n",
    "        for t in range(K):\n",
    "             \n",
    "            a=centroids[t]\n",
    "            b=old_centroid[t]\n",
    "            if np.sum((a - b)/b * 100) > 0.001:\n",
    "                flg = 0\n",
    "                \n",
    "            \n",
    "            \n",
    "        if flg==1:\n",
    "            break\n",
    "    \n",
    "    \n",
    "    return classes,centroids\n",
    "                    "
   ]
  },
  {
   "cell_type": "code",
   "execution_count": 6,
   "metadata": {},
   "outputs": [
    {
     "name": "stdout",
     "output_type": "stream",
     "text": [
      "{0: array([32, 41, 76, 34, 65, 53, 30, 54, 16, 51, 61, 43, 74, 70, 62, 21, 34,\n",
      "       42, 61, 37, 58, 66, 54, 49, 17, 19, 11, 42, 53, 30, 71,  9, 61, 16,\n",
      "       31, 43, 67, 61, 29, 31, 17,  8, 18, 11]), 1: array([76, 65, 60, 40, 32, 34, 65, 50, 53, 37, 66, 53, 33, 31, 30, 30, 69,\n",
      "       75, 64, 45, 68, 65, 57, 43, 23, 23, 53, 77, 48, 32, 55, 32, 48, 23,\n",
      "       62, 51, 65, 59, 43, 39, 35, 30, 24, 21])}\n",
      "Final centroids are:\n",
      "{0: array([66.33333333, 63.33333333, 63.        , 53.16666667, 58.83333333,\n",
      "       58.        , 64.16666667, 63.66666667, 42.        , 45.        ,\n",
      "       55.83333333, 52.66666667, 51.        , 53.        , 43.5       ,\n",
      "       34.5       , 54.83333333, 56.5       , 53.16666667, 42.33333333,\n",
      "       68.5       , 66.5       , 57.66666667, 57.5       , 28.5       ,\n",
      "       33.16666667, 40.33333333, 53.83333333, 46.66666667, 38.16666667,\n",
      "       59.66666667, 48.16666667, 58.66666667, 48.66666667, 52.5       ,\n",
      "       47.16666667, 55.        , 47.66666667, 46.16666667, 44.83333333,\n",
      "       35.66666667, 36.        , 29.16666667, 29.66666667]), 1: array([67.50961538, 67.05769231, 69.86538462, 71.22115385, 67.66346154,\n",
      "       67.74038462, 71.74038462, 71.65384615, 65.16346154, 64.58653846,\n",
      "       70.90384615, 71.73076923, 68.97115385, 69.92307692, 65.38461538,\n",
      "       63.52884615, 69.20192308, 68.        , 67.32692308, 65.67307692,\n",
      "       74.59615385, 73.32692308, 68.99038462, 68.73076923, 62.07692308,\n",
      "       60.81730769, 64.13461538, 62.13461538, 65.30769231, 64.84615385,\n",
      "       72.375     , 73.57692308, 62.35576923, 63.21153846, 66.14423077,\n",
      "       65.85576923, 66.34615385, 65.90384615, 70.24038462, 68.84615385,\n",
      "       67.86538462, 65.99038462, 57.14423077, 55.60576923])}\n"
     ]
    }
   ],
   "source": [
    "classes,centroids=KMean(x)\n",
    "for i in range(0,K):\n",
    "    classes[i]=np.array(classes[i])\n",
    "    classes[i]=classes[i].tolist()\n",
    "\n",
    "print(\"Final centroids are:\")\n",
    "print(centroids)"
   ]
  },
  {
   "cell_type": "code",
   "execution_count": 7,
   "metadata": {},
   "outputs": [],
   "source": [
    "def subset(array1,array2):\n",
    "#     print(array1)\n",
    "    flg=0\n",
    "    for i in range(len(array1)):\n",
    "        if(array2==array1[i]):\n",
    "            flg=1\n",
    "            break\n",
    "    if(flg==1):\n",
    "        return True\n",
    "    else:\n",
    "        return False"
   ]
  },
  {
   "cell_type": "code",
   "execution_count": 8,
   "metadata": {},
   "outputs": [],
   "source": [
    "def report(cm):\n",
    "    TP=cm[0][0]\n",
    "    TN=cm[1][1]\n",
    "    FN=cm[0][1]\n",
    "    FP=cm[1][0]\n",
    "    accuracy=(TP+TN)/(TP+TN+FN+FP)\n",
    "    recall=(TP)/(TP+FN)\n",
    "    precision=(TP)/(TP+FP)\n",
    "    f1_score=(2*recall*precision)/(recall+precision)\n",
    "    \n",
    "    print(\"Accuracy of the model is {}\".format(accuracy*100))\n",
    "    print(\"Recall of the model is {}\".format(recall*100))\n",
    "    print(\"Precision of the model is {}\".format(precision*100))\n",
    "    print(\"F1-Score of the model is {}\".format(f1_score*100))"
   ]
  },
  {
   "cell_type": "code",
   "execution_count": 9,
   "metadata": {},
   "outputs": [
    {
     "name": "stdout",
     "output_type": "stream",
     "text": [
      "Confusion Matrix is:\n",
      "[[6, 49], [0, 55]]\n",
      "Accuracy of the model is 55.45454545454545\n",
      "Recall of the model is 10.909090909090908\n",
      "Precision of the model is 100.0\n",
      "F1-Score of the model is 19.672131147540984\n"
     ]
    }
   ],
   "source": [
    "\n",
    "cm=[[0 for i in range(2)] for j in range(2)]\n",
    "\n",
    "\n",
    "for element in classA:\n",
    "    \n",
    "    \n",
    "    if subset(classes[0],element):\n",
    "        cm[0][0]=cm[0][0]+1\n",
    "    elif subset(classes[1],element):\n",
    "        cm[0][1]=cm[0][1]+1\n",
    "    \n",
    "        \n",
    "\n",
    "for element in classB:\n",
    "\n",
    "    if subset(classes[0],element):\n",
    "        cm[1][0]=cm[1][0]+1\n",
    "    elif subset(classes[1],element):\n",
    "        cm[1][1]=cm[1][1]+1\n",
    "print(\"Confusion Matrix is:\")\n",
    "print(cm)\n",
    "report(cm)\n",
    "    "
   ]
  },
  {
   "cell_type": "code",
   "execution_count": null,
   "metadata": {},
   "outputs": [],
   "source": [
    "\n",
    "\n",
    "    "
   ]
  },
  {
   "cell_type": "code",
   "execution_count": null,
   "metadata": {},
   "outputs": [],
   "source": []
  },
  {
   "cell_type": "code",
   "execution_count": null,
   "metadata": {},
   "outputs": [],
   "source": []
  }
 ],
 "metadata": {
  "kernelspec": {
   "display_name": "Python 3",
   "language": "python",
   "name": "python3"
  },
  "language_info": {
   "codemirror_mode": {
    "name": "ipython",
    "version": 3
   },
   "file_extension": ".py",
   "mimetype": "text/x-python",
   "name": "python",
   "nbconvert_exporter": "python",
   "pygments_lexer": "ipython3",
   "version": "3.7.3"
  }
 },
 "nbformat": 4,
 "nbformat_minor": 2
}
