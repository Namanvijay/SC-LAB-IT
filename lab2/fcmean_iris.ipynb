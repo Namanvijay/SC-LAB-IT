{
 "cells": [
  {
   "cell_type": "code",
   "execution_count": 18,
   "metadata": {},
   "outputs": [],
   "source": [
    "import numpy as np\n",
    "import pandas as pd\n",
    "import random\n",
    "import operator\n",
    "import math\n"
   ]
  },
  {
   "cell_type": "code",
   "execution_count": 19,
   "metadata": {},
   "outputs": [
    {
     "name": "stdout",
     "output_type": "stream",
     "text": [
      "   Id  SepalLengthCm  SepalWidthCm  PetalLengthCm  PetalWidthCm      Species\n",
      "0   1            5.1           3.5            1.4           0.2  Iris-setosa\n",
      "1   2            4.9           3.0            1.4           0.2  Iris-setosa\n",
      "2   3            4.7           3.2            1.3           0.2  Iris-setosa\n",
      "3   4            4.6           3.1            1.5           0.2  Iris-setosa\n",
      "4   5            5.0           3.6            1.4           0.2  Iris-setosa\n",
      "5   6            5.4           3.9            1.7           0.4  Iris-setosa\n",
      "6   7            4.6           3.4            1.4           0.3  Iris-setosa\n",
      "7   8            5.0           3.4            1.5           0.2  Iris-setosa\n",
      "8   9            4.4           2.9            1.4           0.2  Iris-setosa\n",
      "9  10            4.9           3.1            1.5           0.1  Iris-setosa\n"
     ]
    }
   ],
   "source": [
    "iris=pd.read_csv('Iris.csv')\n",
    "print(iris.head(10))\n",
    "classA=[]\n",
    "classB=[]\n",
    "classC=[]\n",
    "data=[]\n",
    "data=iris.iloc[:,[1,2,3,4]].values.tolist()\n",
    "y=iris.iloc[:,5].values.tolist()\n",
    "for i in range(len(y)):\n",
    "    if(y[i]=='Iris-setosa'):\n",
    "        classA.append(data[i])\n",
    "    elif(y[i]=='Iris-versicolor'):\n",
    "        classB.append(data[i])\n",
    "    if(y[i]=='Iris-virginica'):\n",
    "        classC.append(data[i])\n",
    "m=2\n",
    "n=len(iris)\n",
    "c=3\n",
    "p=len(data[0])\n",
    "max_iter=100\n",
    "\n",
    "\n",
    "    \n",
    "    \n",
    "\n",
    "    \n",
    "    \n",
    "    \n"
   ]
  },
  {
   "cell_type": "code",
   "execution_count": 20,
   "metadata": {},
   "outputs": [],
   "source": [
    "def initialize_membership_matrix(n,c):\n",
    "    member_mat=list()\n",
    "    for i in range(n):\n",
    "        random_list=[random.random() for x in range(c)]\n",
    "        summation=sum(random_list)\n",
    "        for i in range(len(random_list)):\n",
    "            random_list[i]=random_list[i]/summation\n",
    "        member_mat.append(random_list)\n",
    "    return member_mat\n",
    "        "
   ]
  },
  {
   "cell_type": "code",
   "execution_count": 21,
   "metadata": {},
   "outputs": [],
   "source": [
    "def update_centroid(member_mat):\n",
    "    centroids={}\n",
    "\n",
    "    for j in range(c):\n",
    "        temp=[]\n",
    "        for k in range(p):\n",
    "            \n",
    "            add=0\n",
    "            for i in range(n):\n",
    "                add+=member_mat[i][j]**m\n",
    "            x=0\n",
    "            for i in range(n):\n",
    "                x+=(member_mat[i][j]**m)*(data[i][k])\n",
    "            val=x/add\n",
    "            temp.append(val)\n",
    "        centroids[j]=temp\n",
    "    return centroids\n",
    "\n",
    "        \n",
    "                \n",
    "        \n",
    "        \n",
    "            "
   ]
  },
  {
   "cell_type": "code",
   "execution_count": 22,
   "metadata": {},
   "outputs": [],
   "source": [
    "def euclidean_distance(point1,point2):\n",
    "    dis=0\n",
    "    for i in range(len(point1)):\n",
    "        dis+=(point1[i]-point2[i])**2\n",
    "    return dis**0.5"
   ]
  },
  {
   "cell_type": "code",
   "execution_count": 23,
   "metadata": {},
   "outputs": [],
   "source": [
    "def update_membership_matrix(member_mat,centroids):\n",
    "    ratio=float(2/(m-1))\n",
    "\n",
    "    for i in range(n):\n",
    "        distances=list()\n",
    "        for j in range(c):\n",
    "            distances.append(euclidean_distance(data[i],centroids[j]))\n",
    "        for j in range(c):\n",
    "            den = sum([math.pow(float(distances[j]/distances[q]), ratio) for q in range(c)])\n",
    "            member_mat[i][j] = float(1/den) \n",
    "           \n",
    "            \n",
    "    return member_mat\n",
    "        \n",
    "                \n",
    "    \n",
    "        \n",
    "    "
   ]
  },
  {
   "cell_type": "code",
   "execution_count": 24,
   "metadata": {},
   "outputs": [],
   "source": [
    "def find_cluster(member_mat):\n",
    "    clusters=list()\n",
    "    for i in range(n):\n",
    "        max_val, idx = max((val, idx) for (idx, val) in enumerate(member_mat[i]))\n",
    "        clusters.append(idx)\n",
    "    return clusters\n",
    "        "
   ]
  },
  {
   "cell_type": "code",
   "execution_count": 25,
   "metadata": {},
   "outputs": [],
   "source": [
    "def check(old_member_mat,member_mat):\n",
    "    diff=0\n",
    "    for i in range(n):\n",
    "        for j in range(c):\n",
    "            diff+=old_member_mat[i][j]-member_mat[i][j]\n",
    "    if(diff<0.01):\n",
    "        return True\n",
    "    return False"
   ]
  },
  {
   "cell_type": "code",
   "execution_count": 26,
   "metadata": {},
   "outputs": [],
   "source": [
    "def fuzzy_c_mean():\n",
    "    \n",
    "    member_mat=initialize_membership_matrix(n,c)\n",
    "    for i in range(max_iter):\n",
    "        centroids=update_centroid(member_mat)\n",
    "        old_member_mat=member_mat\n",
    "        member_mat=update_membership_matrix(member_mat,centroids)\n",
    "        cluster=find_cluster(member_mat)\n",
    "        if(check(old_member_mat,member_mat))<0.01:\n",
    "            print(i)\n",
    "            break\n",
    "    \n",
    "   \n",
    "    \n",
    "    return cluster,centroids\n",
    "\n",
    "        "
   ]
  },
  {
   "cell_type": "code",
   "execution_count": 27,
   "metadata": {},
   "outputs": [],
   "source": [
    "def class_assign(clusters):\n",
    "    z=0\n",
    "    o=0\n",
    "    t=0\n",
    "    dict={}\n",
    "\n",
    "\n",
    "    for i in range(50):\n",
    "        if(clusters[i]==0):\n",
    "            z=z+1\n",
    "        elif(clusters[i]==1):\n",
    "            o=o+1\n",
    "        else:\n",
    "            t=t+1\n",
    "    dict[z]=0\n",
    "    dict[o]=1\n",
    "    dict[t]=2\n",
    "    classes=[]\n",
    "    fin1=max(z,max(o,t))\n",
    "    \n",
    "    classes.append(dict[fin1])\n",
    "    z=0\n",
    "    o=0\n",
    "    t=0\n",
    "    for i in range(50,100):\n",
    "        if(clusters[i]==0):\n",
    "            z=z+1\n",
    "        elif(clusters[i]==1):\n",
    "            o=o+1\n",
    "        else:\n",
    "            t=t+1\n",
    "    dict[z]=0\n",
    "    dict[o]=1\n",
    "    dict[t]=2\n",
    "\n",
    "    fin1=max(z,max(o,t))\n",
    "    \n",
    "    classes.append(dict[fin1])\n",
    "    z=0\n",
    "    o=0\n",
    "    t=0\n",
    "    for i in range(100,150):\n",
    "        if(clusters[i]==0):\n",
    "            z=z+1\n",
    "        elif(clusters[i]==1):\n",
    "            o=o+1\n",
    "        else:\n",
    "            t=t+1\n",
    "    dict[z]=0\n",
    "    dict[o]=1\n",
    "    dict[t]=2\n",
    "    fin1=max(z,max(o,t))\n",
    "   \n",
    "    classes.append(dict[fin1])\n",
    "    return classes\n",
    "\n",
    "\n",
    "    "
   ]
  },
  {
   "cell_type": "code",
   "execution_count": 28,
   "metadata": {},
   "outputs": [
    {
     "name": "stdout",
     "output_type": "stream",
     "text": [
      "Final centroids are:\n",
      "{0: [6.775118990935368, 3.0524309144489603, 5.646914425447041, 2.053608512297833], 1: [5.889199790112374, 2.7612349506579723, 4.364255127710264, 1.3974465466442996], 2: [5.003561368066339, 3.403035667559668, 1.4850015641244805, 0.2515410747353394]}\n"
     ]
    }
   ],
   "source": [
    "clusters,centroids=fuzzy_c_mean()\n",
    "print(\"Final centroids are:\")\n",
    "print(centroids)\n",
    "\n",
    "classes=class_assign(clusters)\n",
    "\n",
    "    \n"
   ]
  },
  {
   "cell_type": "code",
   "execution_count": 29,
   "metadata": {},
   "outputs": [
    {
     "name": "stdout",
     "output_type": "stream",
     "text": [
      "Confusion Matrix is:\n",
      "[[50, 0, 0], [0, 47, 3], [0, 13, 37]]\n"
     ]
    }
   ],
   "source": [
    "rows,cols=(3,3)\n",
    "cm=[[0 for i in range(cols)] for j in range(rows)]\n",
    "m=0\n",
    "n=0\n",
    "q=0\n",
    "for i in range(50):\n",
    "   \n",
    "    if clusters[i]==classes[0]:\n",
    "        m=m+1\n",
    "    elif clusters[i]==classes[1]:\n",
    "        n=n+1\n",
    "    else:\n",
    "        q=q+1\n",
    "cm[0][0]=m\n",
    "cm[0][1]=n\n",
    "cm[0][2]=q\n",
    "m=0\n",
    "n=0\n",
    "q=0\n",
    "for i in range(50,100):\n",
    "    if clusters[i]==classes[0]:\n",
    "        m=m+1\n",
    "    elif clusters[i]==classes[1]:\n",
    "        n=n+1\n",
    "    else:\n",
    "        q=q+1\n",
    "cm[1][0]=m\n",
    "cm[1][1]=n\n",
    "cm[1][2]=q\n",
    "m=0\n",
    "n=0\n",
    "q=0\n",
    "\n",
    "for i in range(100,150):\n",
    "    if clusters[i]==classes[0]:\n",
    "        m=m+1\n",
    "    elif clusters[i]==classes[1]:\n",
    "        n=n+1\n",
    "    else:\n",
    "        q=q+1\n",
    "cm[2][0]=m\n",
    "cm[2][1]=n\n",
    "cm[2][2]=q\n",
    "print(\"Confusion Matrix is:\")\n",
    "print(cm)    \n",
    "    "
   ]
  },
  {
   "cell_type": "code",
   "execution_count": 30,
   "metadata": {},
   "outputs": [
    {
     "name": "stdout",
     "output_type": "stream",
     "text": [
      "Accuracy of the model is 89.33333333333333\n",
      "Recall of the model is 89.33333333333331\n",
      "Precision of the model is 90.27777777777777\n",
      "F1-Score of the model is 89.80307248169913\n"
     ]
    }
   ],
   "source": [
    "total=np.sum(cm)\n",
    "diagonal=np.sum(np.diag(cm))\n",
    "accuracy=(diagonal/total)\n",
    "recall=np.diag(cm)/np.sum(cm,axis=1)\n",
    "recall=np.mean(recall)\n",
    "precision=np.diag(cm)/np.sum(cm,axis=0)\n",
    "precision=np.mean(precision)\n",
    "f1_score=(2*precision*recall)/(precision+recall)\n",
    "print(\"Accuracy of the model is {}\".format(accuracy*100))\n",
    "print(\"Recall of the model is {}\".format(recall*100))\n",
    "print(\"Precision of the model is {}\".format(precision*100))\n",
    "print(\"F1-Score of the model is {}\".format(f1_score*100))\n",
    "\n",
    "\n",
    "\n",
    "    \n",
    "    "
   ]
  },
  {
   "cell_type": "code",
   "execution_count": null,
   "metadata": {},
   "outputs": [],
   "source": []
  },
  {
   "cell_type": "code",
   "execution_count": null,
   "metadata": {},
   "outputs": [],
   "source": []
  }
 ],
 "metadata": {
  "kernelspec": {
   "display_name": "Python 3",
   "language": "python",
   "name": "python3"
  },
  "language_info": {
   "codemirror_mode": {
    "name": "ipython",
    "version": 3
   },
   "file_extension": ".py",
   "mimetype": "text/x-python",
   "name": "python",
   "nbconvert_exporter": "python",
   "pygments_lexer": "ipython3",
   "version": "3.7.3"
  }
 },
 "nbformat": 4,
 "nbformat_minor": 2
}
