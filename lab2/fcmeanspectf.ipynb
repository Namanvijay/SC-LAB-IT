{
 "cells": [
  {
   "cell_type": "code",
   "execution_count": 1,
   "metadata": {},
   "outputs": [],
   "source": [
    "import numpy as np\n",
    "import pandas as pd\n",
    "import random\n",
    "import operator\n",
    "import math\n"
   ]
  },
  {
   "cell_type": "code",
   "execution_count": 2,
   "metadata": {},
   "outputs": [],
   "source": [
    "test=pd.read_csv('SPECTF_test.csv')\n",
    "classA=[]\n",
    "classB=[]\n",
    "\n",
    "data=[]\n",
    "l=[i for i in range(0,44)]\n",
    "data=test.iloc[:,l].values.tolist()\n",
    "# print(data)\n",
    "y=test.iloc[:,44].values.tolist()\n",
    "for i in range(len(y)):\n",
    "    if(y[i]=='Yes'):\n",
    "        classA.append(data[i])\n",
    "    elif(y[i]=='No'):\n",
    "        classB.append(data[i])\n",
    "\n",
    "m=2\n",
    "n=len(test)\n",
    "c=2\n",
    "p=len(data[0])\n",
    "max_iter=100\n",
    "\n",
    "\n",
    "\n",
    "    \n",
    "    \n",
    "\n",
    "    \n",
    "    \n",
    "    \n"
   ]
  },
  {
   "cell_type": "code",
   "execution_count": 3,
   "metadata": {},
   "outputs": [],
   "source": [
    "def initialize_membership_matrix(n,c):\n",
    "    member_mat=list()\n",
    "    for i in range(n):\n",
    "        random_list=[random.random() for x in range(c)]\n",
    "        summation=sum(random_list)\n",
    "        for i in range(len(random_list)):\n",
    "            random_list[i]=random_list[i]/summation\n",
    "        member_mat.append(random_list)\n",
    "    return member_mat\n",
    "        "
   ]
  },
  {
   "cell_type": "code",
   "execution_count": 4,
   "metadata": {},
   "outputs": [],
   "source": [
    "def update_centroid(member_mat):\n",
    "    centroids={}\n",
    "\n",
    "    for j in range(c):\n",
    "        temp=[]\n",
    "        for k in range(p):\n",
    "            \n",
    "            add=0\n",
    "            for i in range(n):\n",
    "                add+=member_mat[i][j]**m\n",
    "            x=0\n",
    "            for i in range(n):\n",
    "                x+=(member_mat[i][j]**m)*(data[i][k])\n",
    "            val=x/add\n",
    "            temp.append(val)\n",
    "        centroids[j]=temp\n",
    "    return centroids\n",
    "\n",
    "        \n",
    "                \n",
    "        \n",
    "        \n",
    "            "
   ]
  },
  {
   "cell_type": "code",
   "execution_count": 5,
   "metadata": {},
   "outputs": [],
   "source": [
    "def euclidean_distance(point1,point2):\n",
    "    dis=0\n",
    "    for i in range(len(point1)):\n",
    "        dis+=(point1[i]-point2[i])**2\n",
    "    return dis**0.5"
   ]
  },
  {
   "cell_type": "code",
   "execution_count": 6,
   "metadata": {},
   "outputs": [],
   "source": [
    "def update_membership_matrix(member_mat,centroids):\n",
    "    ratio=float(2/(m-1))\n",
    "\n",
    "    for i in range(n):\n",
    "        distances=list()\n",
    "        for j in range(c):\n",
    "            distances.append(euclidean_distance(data[i],centroids[j]))\n",
    "        for j in range(c):\n",
    "            den = sum([math.pow(float(distances[j]/distances[q]), ratio) for q in range(c)])\n",
    "            member_mat[i][j] = float(1/den) \n",
    "           \n",
    "            \n",
    "    return member_mat\n",
    "        \n",
    "                \n",
    "    \n",
    "            \n",
    "    \n",
    "\n",
    "        \n",
    "    "
   ]
  },
  {
   "cell_type": "code",
   "execution_count": 7,
   "metadata": {},
   "outputs": [],
   "source": [
    "def find_cluster(member_mat):\n",
    "    clusters=list()\n",
    "    for i in range(n):\n",
    "        max_val, idx = max((val, idx) for (idx, val) in enumerate(member_mat[i]))\n",
    "        clusters.append(idx)\n",
    "    return clusters\n",
    "        "
   ]
  },
  {
   "cell_type": "code",
   "execution_count": 8,
   "metadata": {},
   "outputs": [],
   "source": [
    "def check(old_member_mat,member_mat):\n",
    "    diff=0\n",
    "    for i in range(n):\n",
    "        for j in range(c):\n",
    "            diff+=old_member_mat[i][j]-member_mat[i][j]\n",
    "    if(diff<0.01):\n",
    "        return True\n",
    "    return False"
   ]
  },
  {
   "cell_type": "code",
   "execution_count": 9,
   "metadata": {},
   "outputs": [],
   "source": [
    "def fuzzy_c_mean():\n",
    "    \n",
    "    member_mat=initialize_membership_matrix(n,c)\n",
    "\n",
    "\n",
    "    for i in range(max_iter):\n",
    "        centroids=update_centroid(member_mat)\n",
    "        old_member_mat=member_mat\n",
    "        member_mat=update_membership_matrix(member_mat,centroids)\n",
    "        cluster=find_cluster(member_mat)\n",
    "   \n",
    "\n",
    "    return cluster,centroids\n",
    "\n",
    "\n",
    "        "
   ]
  },
  {
   "cell_type": "code",
   "execution_count": 10,
   "metadata": {},
   "outputs": [],
   "source": [
    "def acc(clusters,y):\n",
    "    cm=[[0 for i in range(2)] for j in range(2)]\n",
    "    tp = [0, 0]\n",
    "    tn = [0, 0]\n",
    "    fp = [0, 0]\n",
    "    fn = [0, 0]\n",
    "    for i in range(len(y)):\n",
    "        if clusters[i] == 1 and y[i] == 'Yes':\n",
    "            tp[0] = tp[0] + 1\n",
    "        if clusters[i] == 0 and y[i] == 'No':\n",
    "            tn[0] = tn[0] + 1\n",
    "        if clusters[i] == 1 and y[i] == 'No':\n",
    "            fp[0] = fp[0] + 1\n",
    "        if clusters[i] == 0 and y[i] == 'Yes':\n",
    "            fn[0] = fn[0] + 1\n",
    "        \n",
    "    for i in range(len(y)):\n",
    "        \n",
    "        if clusters[i] == 0 and y[i] == 'Yes':\n",
    "            tp[1] = tp[1] + 1\n",
    "        if clusters[i] == 1 and y[i] == 'No':\n",
    "            tn[1] = tn[1] + 1\n",
    "        if clusters[i] == 0 and y[i] == 'No':\n",
    "            fp[1] = fp[1] + 1\n",
    "        if clusters[i] == 1 and y[i] == 'Yes':\n",
    "            fn[1] = fn[1] + 1\n",
    "      \n",
    "    x=max((tp[0]+tn[0]),(tp[1]+tn[1]))\n",
    "    if x==tp[0]+tn[0]:\n",
    "            cm[0][0]=tp[0]\n",
    "            cm[1][1]=tn[0]\n",
    "            cm[0][1]=fn[0]\n",
    "            cm[1][0]=fp[0]\n",
    "            return cm\n",
    "    else:\n",
    "            cm[0][0]=tp[1]\n",
    "            cm[1][1]=tn[1]\n",
    "            cm[0][1]=fn[1]\n",
    "            cm[1][0]=fp[1]\n",
    "            return cm\n",
    "            \n",
    "       \n",
    "    \n",
    "   \n",
    "  \n",
    "   \n",
    "    "
   ]
  },
  {
   "cell_type": "code",
   "execution_count": 11,
   "metadata": {},
   "outputs": [],
   "source": [
    "def report(cm):\n",
    "    TP=cm[0][0]\n",
    "    TN=cm[1][1]\n",
    "    FN=cm[0][1]\n",
    "    FP=cm[1][0]\n",
    "    accuracy=(TP+TN)/(TP+TN+FN+FP)\n",
    "    recall=(TP)/(TP+FN)\n",
    "    precision=(TP)/(TP+FP)\n",
    "    f1_score=(2*recall*precision)/(recall+precision)\n",
    "    \n",
    "    \n",
    "    print(\"Accuracy of the model is {}\".format(accuracy*100))\n",
    "    print(\"Recall of the model is {}\".format(recall*100))\n",
    "    print(\"Precision of the model is {}\".format(precision*100))\n",
    "    print(\"F1-Score of the model is {}\".format(f1_score*100))\n",
    "\n"
   ]
  },
  {
   "cell_type": "code",
   "execution_count": 12,
   "metadata": {},
   "outputs": [
    {
     "name": "stdout",
     "output_type": "stream",
     "text": [
      "Final Centroid points are:\n",
      "{0: [67.44802016802346, 66.85299780673324, 69.4861357727301, 70.22491691757746, 67.17305369696511, 67.19117118235582, 71.32515620076013, 71.21090053436903, 63.89633102216665, 63.51103105499169, 70.0806388403345, 70.68701272926633, 67.97713036089071, 68.97966838474872, 64.16875789060164, 61.91303898635046, 68.41324152026668, 67.36313304547615, 66.54412080149288, 64.38285974969713, 74.26272126431108, 72.94602641361537, 68.35023314117356, 68.08514381599011, 60.19738559032263, 59.25268638531145, 62.82072061751698, 61.66009605313203, 64.27168022197633, 63.3606723507418, 71.67495196864805, 72.17371002042233, 62.14683717750075, 62.40466090898958, 65.39155647204973, 64.82167329746923, 65.72455311949412, 64.9016947649035, 68.90395476454505, 67.50861074788678, 66.06580200221, 64.29843609338867, 55.57153104195082, 54.133612694514156], 1: [67.44292776277146, 66.85610246773514, 69.49566795972532, 70.24776476250045, 67.19054201156793, 67.22691632780463, 71.32940675080805, 71.22543605285398, 63.903662845599776, 63.52530413356274, 70.08300900054905, 70.69481194680677, 68.00461415575339, 69.02022966174232, 64.21292689098969, 61.97767691451156, 68.4231089974285, 67.38227349978344, 66.56489229846241, 64.41705452845798, 74.26456171402337, 72.96302394687235, 68.39509420624029, 68.15103298099393, 60.293242367972326, 59.365153678091964, 62.85193994892797, 61.70343398631811, 64.31005883539243, 63.42100453762109, 71.68866065377539, 72.2080298325642, 62.162220663137454, 62.43163219164362, 65.4084060432123, 64.8509824925121, 65.7299936431768, 64.91647143316584, 68.95046538068344, 67.56397912176652, 66.15212221903663, 64.4103133061376, 55.664558527359155, 54.24785682556226]}\n",
      "Confusion Matrix is:\n",
      "[[31, 24], [4, 51]]\n",
      "Accuracy of the model is 74.54545454545455\n",
      "Recall of the model is 56.36363636363636\n",
      "Precision of the model is 88.57142857142857\n",
      "F1-Score of the model is 68.88888888888889\n"
     ]
    }
   ],
   "source": [
    "clusters,centroids=fuzzy_c_mean()\n",
    "print(\"Final Centroid points are:\")\n",
    "print(centroids)\n",
    "\n",
    "cm=acc(clusters,y)\n",
    "print(\"Confusion Matrix is:\")\n",
    "print(cm)\n",
    "report(cm)\n",
    "\n",
    "\n",
    "\n",
    "\n"
   ]
  },
  {
   "cell_type": "code",
   "execution_count": null,
   "metadata": {},
   "outputs": [],
   "source": [
    "\n",
    "\n",
    "\n"
   ]
  },
  {
   "cell_type": "code",
   "execution_count": null,
   "metadata": {},
   "outputs": [],
   "source": []
  },
  {
   "cell_type": "code",
   "execution_count": null,
   "metadata": {},
   "outputs": [],
   "source": []
  }
 ],
 "metadata": {
  "kernelspec": {
   "display_name": "Python 3",
   "language": "python",
   "name": "python3"
  },
  "language_info": {
   "codemirror_mode": {
    "name": "ipython",
    "version": 3
   },
   "file_extension": ".py",
   "mimetype": "text/x-python",
   "name": "python",
   "nbconvert_exporter": "python",
   "pygments_lexer": "ipython3",
   "version": "3.7.3"
  }
 },
 "nbformat": 4,
 "nbformat_minor": 2
}
