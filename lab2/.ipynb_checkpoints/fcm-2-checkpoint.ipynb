{
 "cells": [
  {
   "cell_type": "code",
   "execution_count": 1,
   "metadata": {},
   "outputs": [],
   "source": [
    "import numpy as np\n",
    "import pandas as pd\n",
    "import random\n",
    "import operator\n",
    "import math\n"
   ]
  },
  {
   "cell_type": "code",
   "execution_count": 2,
   "metadata": {},
   "outputs": [],
   "source": [
    "test=pd.read_csv('SPECTF_test.csv')\n",
    "classA=[]\n",
    "classB=[]\n",
    "\n",
    "data=[]\n",
    "l=[i for i in range(0,44)]\n",
    "data=test.iloc[:,l].values.tolist()\n",
    "# print(data)\n",
    "y=test.iloc[:,44].values.tolist()\n",
    "for i in range(len(y)):\n",
    "    if(y[i]=='Yes'):\n",
    "        classA.append(data[i])\n",
    "    elif(y[i]=='No'):\n",
    "        classB.append(data[i])\n",
    "\n",
    "m=2\n",
    "n=len(test)\n",
    "c=2\n",
    "p=len(data[0])\n",
    "max_iter=100\n",
    "\n",
    "\n",
    "\n",
    "    \n",
    "    \n",
    "\n",
    "    \n",
    "    \n",
    "    \n"
   ]
  },
  {
   "cell_type": "code",
   "execution_count": 3,
   "metadata": {},
   "outputs": [],
   "source": [
    "def initialize_membership_matrix(n,c):\n",
    "    member_mat=list()\n",
    "    for i in range(n):\n",
    "        random_list=[random.random() for x in range(c)]\n",
    "        summation=sum(random_list)\n",
    "        for i in range(len(random_list)):\n",
    "            random_list[i]=random_list[i]/summation\n",
    "        member_mat.append(random_list)\n",
    "    return member_mat\n",
    "        "
   ]
  },
  {
   "cell_type": "code",
   "execution_count": 4,
   "metadata": {},
   "outputs": [],
   "source": [
    "def update_centroid(member_mat):\n",
    "    centroids={}\n",
    "\n",
    "    for j in range(c):\n",
    "        temp=[]\n",
    "        for k in range(p):\n",
    "            \n",
    "            add=0\n",
    "            for i in range(n):\n",
    "                add+=member_mat[i][j]**m\n",
    "            x=0\n",
    "            for i in range(n):\n",
    "                x+=(member_mat[i][j]**m)*(data[i][k])\n",
    "            val=x/add\n",
    "            temp.append(val)\n",
    "        centroids[j]=temp\n",
    "    return centroids\n",
    "\n",
    "        \n",
    "                \n",
    "        \n",
    "        \n",
    "            "
   ]
  },
  {
   "cell_type": "code",
   "execution_count": 5,
   "metadata": {},
   "outputs": [],
   "source": [
    "def euclidean_distance(point1,point2):\n",
    "    dis=0\n",
    "    for i in range(len(point1)):\n",
    "        dis+=(point1[i]-point2[i])**2\n",
    "    return dis**0.5"
   ]
  },
  {
   "cell_type": "code",
   "execution_count": 6,
   "metadata": {},
   "outputs": [],
   "source": [
    "def update_membership_matrix(member_mat,centroids):\n",
    "    ratio=float(2/(m-1))\n",
    "\n",
    "    for i in range(n):\n",
    "        distances=list()\n",
    "        for j in range(c):\n",
    "            distances.append(euclidean_distance(data[i],centroids[j]))\n",
    "        for j in range(c):\n",
    "            den = sum([math.pow(float(distances[j]/distances[q]), ratio) for q in range(c)])\n",
    "            member_mat[i][j] = float(1/den) \n",
    "           \n",
    "            \n",
    "    return member_mat\n",
    "        \n",
    "                \n",
    "    \n",
    "            \n",
    "    \n",
    "\n",
    "        \n",
    "    "
   ]
  },
  {
   "cell_type": "code",
   "execution_count": 7,
   "metadata": {},
   "outputs": [],
   "source": [
    "def find_cluster(member_mat):\n",
    "    clusters=list()\n",
    "    for i in range(n):\n",
    "        max_val, idx = max((val, idx) for (idx, val) in enumerate(member_mat[i]))\n",
    "        clusters.append(idx)\n",
    "    return clusters\n",
    "        "
   ]
  },
  {
   "cell_type": "code",
   "execution_count": 8,
   "metadata": {},
   "outputs": [],
   "source": [
    "def check(old_member_mat,member_mat):\n",
    "    diff=0\n",
    "    for i in range(n):\n",
    "        for j in range(c):\n",
    "            diff+=old_member_mat[i][j]-member_mat[i][j]\n",
    "    if(diff<0.01):\n",
    "        return True\n",
    "    return False"
   ]
  },
  {
   "cell_type": "code",
   "execution_count": 9,
   "metadata": {},
   "outputs": [],
   "source": [
    "def fuzzy_c_mean():\n",
    "    \n",
    "    member_mat=initialize_membership_matrix(n,c)\n",
    "\n",
    "\n",
    "    for i in range(max_iter):\n",
    "        centroids=update_centroid(member_mat)\n",
    "        old_member_mat=member_mat\n",
    "        member_mat=update_membership_matrix(member_mat,centroids)\n",
    "        cluster=find_cluster(member_mat)\n",
    "   \n",
    "\n",
    "    return cluster,centroids\n",
    "\n",
    "\n",
    "        "
   ]
  },
  {
   "cell_type": "code",
   "execution_count": 10,
   "metadata": {},
   "outputs": [],
   "source": [
    "def acc(clusters,y):\n",
    "    cm=[[0 for i in range(2)] for j in range(2)]\n",
    "    tp = [0, 0]\n",
    "    tn = [0, 0]\n",
    "    fp = [0, 0]\n",
    "    fn = [0, 0]\n",
    "    for i in range(len(y)):\n",
    "        if clusters[i] == 1 and y[i] == 'Yes':\n",
    "            tp[0] = tp[0] + 1\n",
    "        if clusters[i] == 0 and y[i] == 'No':\n",
    "            tn[0] = tn[0] + 1\n",
    "        if clusters[i] == 1 and y[i] == 'No':\n",
    "            fp[0] = fp[0] + 1\n",
    "        if clusters[i] == 0 and y[i] == 'Yes':\n",
    "            fn[0] = fn[0] + 1\n",
    "        \n",
    "    for i in range(len(y)):\n",
    "        \n",
    "        if clusters[i] == 0 and y[i] == 'Yes':\n",
    "            tp[1] = tp[1] + 1\n",
    "        if clusters[i] == 1 and y[i] == 'No':\n",
    "            tn[1] = tn[1] + 1\n",
    "        if clusters[i] == 0 and y[i] == 'No':\n",
    "            fp[1] = fp[1] + 1\n",
    "        if clusters[i] == 1 and y[i] == 'Yes':\n",
    "            fn[1] = fn[1] + 1\n",
    "      \n",
    "    x=max((tp[0]+tn[0]),(tp[1]+tn[1]))\n",
    "    if x==tp[0]+tn[0]:\n",
    "            cm[0][0]=tp[0]\n",
    "            cm[1][1]=tn[0]\n",
    "            cm[0][1]=fn[0]\n",
    "            cm[1][0]=fp[0]\n",
    "            return cm\n",
    "    else:\n",
    "            cm[0][0]=tp[1]\n",
    "            cm[1][1]=tn[1]\n",
    "            cm[0][1]=fn[1]\n",
    "            cm[1][0]=fp[1]\n",
    "            return cm\n",
    "            \n",
    "       \n",
    "    \n",
    "   \n",
    "  \n",
    "   \n",
    "    "
   ]
  },
  {
   "cell_type": "code",
   "execution_count": 13,
   "metadata": {},
   "outputs": [],
   "source": [
    "def report(cm):\n",
    "    TP=cm[0][0]\n",
    "    TN=cm[1][1]\n",
    "    FN=cm[0][1]\n",
    "    FP=cm[1][0]\n",
    "    accuracy=(TP+TN)/(TP+TN+FN+FP)\n",
    "    recall=(TP)/(TP+FN)\n",
    "    precision=(TP)/(TP+FP)\n",
    "    f1_score=(2*recall*precision)/(recall+precision)\n",
    "    \n",
    "    \n",
    "    print(\"Accuracy of the model is {}\".format(accuracy*100))\n",
    "    print(\"Recall of the model is {}\".format(recall*100))\n",
    "    print(\"Precision of the model is {}\".format(precision*100))\n",
    "    print(\"F1-Score of the model is {}\".format(f1_score*100))\n",
    "\n"
   ]
  },
  {
   "cell_type": "code",
   "execution_count": 14,
   "metadata": {},
   "outputs": [
    {
     "name": "stdout",
     "output_type": "stream",
     "text": [
      "Final Centroid points are:\n",
      "{0: [67.44299861052583, 66.85605836226692, 69.49553374112807, 70.24744334336565, 67.19029615251205, 67.22641411082101, 71.32934623819328, 71.22523151519565, 63.90355945609837, 63.525103334112465, 70.08297520575067, 70.69470161474177, 68.00422803731796, 69.01965963329155, 64.2123067812169, 61.97676937385635, 68.4229699991518, 67.38200450502121, 66.56460109111109, 64.4165739667972, 74.26453543926021, 72.96278501397242, 68.39446415447289, 68.15010760261264, 60.29189636134729, 59.36357476264592, 62.851500887709506, 61.70282488117529, 64.30951900669916, 63.420156376275635, 71.68846770105607, 72.20754729705997, 62.16200431694089, 62.43125322409369, 65.40816911365748, 64.85057053589234, 65.7299167649958, 64.91626316949234, 68.94981197405724, 67.56320095593051, 66.15091024024167, 64.40874270915522, 55.663252277500305, 54.24625299920065], 1: [67.44794715698798, 66.85304139054482, 69.48627079606257, 70.2252408760695, 67.17330182033866, 67.19167865197112, 71.32521573885117, 71.21110657859246, 63.89643475331675, 63.511233438945915, 70.08067199591282, 70.68712269966126, 67.9775205822646, 68.98024409169835, 64.16938543035532, 61.91395728709652, 68.41338124926826, 67.36340471372696, 66.54441634255954, 64.38334508575771, 74.26274696811433, 72.94626760491113, 68.35087027744981, 68.08607960068213, 60.198747255098866, 59.25428433531333, 62.82116339400912, 61.66071108004172, 64.27222445762813, 63.36152838167455, 71.67514624368773, 72.17419691861745, 62.14705536549651, 62.405043805176824, 65.39179548938344, 64.82208923544961, 65.72462992486176, 64.90190389860867, 68.9046151505322, 67.5093965666524, 66.0670283283635, 64.30002571136343, 55.57285255649788, 54.1352359402285]}\n",
      "Confusion Matrix is:\n",
      "[[31, 24], [4, 51]]\n",
      "Accuracy of the model is 74.54545454545455\n",
      "Recall of the model is 56.36363636363636\n",
      "Precision of the model is 88.57142857142857\n",
      "F1-Score of the model is 68.88888888888889\n"
     ]
    }
   ],
   "source": [
    "clusters,centroids=fuzzy_c_mean()\n",
    "print(\"Final Centroid points are:\")\n",
    "print(centroids)\n",
    "\n",
    "cm=acc(clusters,y)\n",
    "print(\"Confusion Matrix is:\")\n",
    "print(cm)\n",
    "report(cm)\n",
    "\n",
    "\n",
    "\n",
    "\n"
   ]
  },
  {
   "cell_type": "code",
   "execution_count": null,
   "metadata": {},
   "outputs": [],
   "source": [
    "\n",
    "\n",
    "\n"
   ]
  },
  {
   "cell_type": "code",
   "execution_count": null,
   "metadata": {},
   "outputs": [],
   "source": []
  },
  {
   "cell_type": "code",
   "execution_count": null,
   "metadata": {},
   "outputs": [],
   "source": []
  }
 ],
 "metadata": {
  "kernelspec": {
   "display_name": "Python 3",
   "language": "python",
   "name": "python3"
  },
  "language_info": {
   "codemirror_mode": {
    "name": "ipython",
    "version": 3
   },
   "file_extension": ".py",
   "mimetype": "text/x-python",
   "name": "python",
   "nbconvert_exporter": "python",
   "pygments_lexer": "ipython3",
   "version": "3.7.3"
  }
 },
 "nbformat": 4,
 "nbformat_minor": 2
}
